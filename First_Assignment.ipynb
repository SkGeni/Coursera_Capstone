{
 "cells": [
  {
   "cell_type": "markdown",
   "metadata": {},
   "source": [
    "<h2>Hey! This Notebook is for Coursera_Capstone Course</h2>\n",
    "\n"
   ]
  },
  {
   "cell_type": "markdown",
   "metadata": {},
   "source": [
    "<em><h4>Will be focused on Capstone Projects</h4></em>\n",
    "\n",
    "<p>The markups will be used for documentaion and Notes throughout this Notebook. Hope you will enjoy and learn going through this notebook file </p>"
   ]
  },
  {
   "cell_type": "markdown",
   "metadata": {},
   "source": [
    "<h3>1.</h3> <h5>First Assignment</h5>\n",
    "Importing pandas and Numpy libraries. Aslo printing \"Hello Capstone Project Course!\" "
   ]
  },
  {
   "cell_type": "code",
   "execution_count": 1,
   "metadata": {},
   "outputs": [
    {
     "name": "stdout",
     "output_type": "stream",
     "text": [
      "Hello Capstone Project Course!\n"
     ]
    }
   ],
   "source": [
    "import pandas as pd\n",
    "import numpy as np\n",
    "\n",
    "print(\"Hello Capstone Project Course!\")"
   ]
  },
  {
   "cell_type": "code",
   "execution_count": 3,
   "metadata": {},
   "outputs": [
    {
     "name": "stdout",
     "output_type": "stream",
     "text": [
      "[master f2e5ab6] Assignament 2 Part 1 committed\n",
      " 6 files changed, 6831 insertions(+), 16 deletions(-)\n",
      " create mode 100644 .ipynb_checkpoints/Segmenting_Clustering_Neighborhood_Toronto-checkpoint.ipynb\n",
      " create mode 100644 .ipynb_checkpoints/Segmenting_Clustering_Neighborhood_Toronto_practice-checkpoint.ipynb\n",
      " create mode 100644 Segmenting_Clustering_Neighborhood_Toronto.ipynb\n",
      " create mode 100644 Segmenting_Clustering_Neighborhood_Toronto_practice.ipynb\n"
     ]
    }
   ],
   "source": [
    "!git commit -am \"Assignament 2 Part 1 committed\""
   ]
  },
  {
   "cell_type": "code",
   "execution_count": 5,
   "metadata": {},
   "outputs": [
    {
     "name": "stdout",
     "output_type": "stream",
     "text": [
      "On branch master\n",
      "Your branch is up to date with 'origin/master'.\n",
      "\n",
      "nothing to commit, working tree clean\n"
     ]
    }
   ],
   "source": [
    "!git status"
   ]
  },
  {
   "cell_type": "code",
   "execution_count": null,
   "metadata": {},
   "outputs": [],
   "source": []
  }
 ],
 "metadata": {
  "kernelspec": {
   "display_name": "Python 3",
   "language": "python",
   "name": "python3"
  },
  "language_info": {
   "codemirror_mode": {
    "name": "ipython",
    "version": 3
   },
   "file_extension": ".py",
   "mimetype": "text/x-python",
   "name": "python",
   "nbconvert_exporter": "python",
   "pygments_lexer": "ipython3",
   "version": "3.6.8"
  }
 },
 "nbformat": 4,
 "nbformat_minor": 2
}
